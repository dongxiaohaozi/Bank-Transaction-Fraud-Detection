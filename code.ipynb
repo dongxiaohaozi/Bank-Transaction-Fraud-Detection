{
 "cells": [
  {
   "cell_type": "markdown",
   "id": "91214b74",
   "metadata": {},
   "source": [
    "# ID5059 Project 2, April, 2022\n",
    "\n",
    "## Group: Experiencing A Significant Gravitas Shortfall"
   ]
  },
  {
   "cell_type": "markdown",
   "id": "d4391ac5",
   "metadata": {},
   "source": [
    "This is the Jupyter notebook documenting our team's final solution for the [Kaggle IEEE-CIS Fraud Detection](https://www.kaggle.com/competitions/ieee-fraud-detection) Project. The workflow of our solution is largely inspired by the Appendix in the Machine Learning Textbook by Aurélien Géron. The structure of this notebook will be organized as follows:\n",
    "\n",
    "<ol>\n",
    "    <li> Understand the problem </li>\n",
    "    <li> Get the data </li>\n",
    "    <li> Exploratory Data Analysis (EDA) and Feature Engineering (FE) </li>\n",
    "    <li> Explore Models </li>\n",
    "    <li> Fine-tune Model</li>\n",
    "    <li> Present solution </li>\n",
    "</ol>\n"
   ]
  },
  {
   "cell_type": "code",
   "execution_count": 1,
   "id": "28688261",
   "metadata": {
    "ExecuteTime": {
     "end_time": "2022-04-11T11:56:22.252256Z",
     "start_time": "2022-04-11T11:56:21.106743Z"
    }
   },
   "outputs": [],
   "source": [
    "# including all necessary libaries\n",
    "import pandas as pd \n",
    "import seaborn as sns\n",
    "import numpy as np\n",
    "import matplotlib.pyplot as plt\n",
    "import datetime\n",
    "from time import time\n",
    "\n",
    "# plotting style\n",
    "plt.style.use('ggplot')\n",
    "color_pal = [x['color'] for x in plt.rcParams['axes.prop_cycle']]\n",
    "%matplotlib inline\n",
    "\n",
    "import warnings\n",
    "warnings.filterwarnings('ignore')\n",
    "\n",
    "from sklearn.preprocessing import LabelEncoder, MinMaxScaler\n",
    "from sklearn.model_selection import KFold, TimeSeriesSplit, StratifiedKFold\n",
    "from sklearn.metrics import roc_auc_score\n",
    "from sklearn.model_selection import train_test_split\n",
    "from sklearn import metrics\n",
    "from sklearn.decomposition import PCA, KernelPCA\n",
    "from sklearn.model_selection import GridSearchCV\n",
    "import lightgbm as lgb "
   ]
  },
  {
   "cell_type": "code",
   "execution_count": 2,
   "id": "61a99ceb",
   "metadata": {
    "ExecuteTime": {
     "end_time": "2022-04-11T11:56:23.015017Z",
     "start_time": "2022-04-11T11:56:23.010322Z"
    },
    "code_folding": []
   },
   "outputs": [],
   "source": [
    "def reduce_mem_usage(df):\n",
    "    \"\"\" iterate through all the columns of a dataframe and modify the data type\n",
    "        to reduce memory usage.        \n",
    "    \"\"\"\n",
    "    start_mem = df.memory_usage().sum() / 1024**2\n",
    "    print('Memory usage of dataframe is {:.2f} MB'.format(start_mem))\n",
    "    \n",
    "    for col in df.columns:\n",
    "        col_type = df[col].dtype\n",
    "        \n",
    "        if col_type != object:\n",
    "            c_min = df[col].min()\n",
    "            c_max = df[col].max()\n",
    "            if str(col_type)[:3] == 'int':\n",
    "                if c_min > np.iinfo(np.int8).min and c_max < np.iinfo(np.int8).max:\n",
    "                    df[col] = df[col].astype(np.int8)\n",
    "                elif c_min > np.iinfo(np.int16).min and c_max < np.iinfo(np.int16).max:\n",
    "                    df[col] = df[col].astype(np.int16)\n",
    "                elif c_min > np.iinfo(np.int32).min and c_max < np.iinfo(np.int32).max:\n",
    "                    df[col] = df[col].astype(np.int32)\n",
    "                elif c_min > np.iinfo(np.int64).min and c_max < np.iinfo(np.int64).max:\n",
    "                    df[col] = df[col].astype(np.int64)  \n",
    "            else:\n",
    "                if c_min > np.finfo(np.float16).min and c_max < np.finfo(np.float16).max:\n",
    "                    df[col] = df[col].astype(np.float16)\n",
    "                elif c_min > np.finfo(np.float32).min and c_max < np.finfo(np.float32).max:\n",
    "                    df[col] = df[col].astype(np.float32)\n",
    "                else:\n",
    "                    df[col] = df[col].astype(np.float64)\n",
    "\n",
    "    end_mem = df.memory_usage().sum() / 1024**2\n",
    "    print('Memory usage after optimization is: {:.2f} MB'.format(end_mem))\n",
    "    print('Decreased by {:.1f}%'.format(100 * (start_mem - end_mem) / start_mem))\n",
    "    \n",
    "    return df"
   ]
  },
  {
   "cell_type": "code",
   "execution_count": 3,
   "id": "bcaff8b3",
   "metadata": {
    "ExecuteTime": {
     "end_time": "2022-04-11T11:56:24.207231Z",
     "start_time": "2022-04-11T11:56:24.201839Z"
    }
   },
   "outputs": [],
   "source": [
    "# helpher function for pre-processing identity \n",
    "# https://www.kaggle.com/code/davidcairuz/feature-engineering-lightgbm\n",
    "# https://www.kaggle.com/code/kabure/almost-complete-feature-engineering-ieee-data#Id-datasets\n",
    "def id_process(dataframe):\n",
    "    \n",
    "    # derive device name and version \n",
    "    dataframe['DeviceInfo'] = dataframe['DeviceInfo'].fillna('unknown_device').str.lower()\n",
    "    dataframe['device_name'] = dataframe['DeviceInfo'].str.split('/', expand=True)[0]\n",
    "    dataframe['device_version'] = dataframe['DeviceInfo'].str.split('/', expand=True)[1]\n",
    "    \n",
    "    # natural for these NaN to be imputed as unknown\n",
    "    dataframe['id_31'] = dataframe['id_31'].fillna('unknown_device').str.lower()\n",
    "    dataframe['id_15'].fillna('Unknown', inplace=True)\n",
    "\n",
    "    # derive browser version\n",
    "    dataframe['browser_id_31'] = dataframe['id_31'].str.split(' ', expand=True)[0]\n",
    "    dataframe['version_id_31'] = dataframe['id_31'].str.split(' ', expand=True)[1]\n",
    "\n",
    "    # device renaming, sum together common manufacturer\n",
    "    dataframe.loc[dataframe['device_name'].str.contains('SM', na=False), 'device_name'] = 'Samsung'\n",
    "    dataframe.loc[dataframe['device_name'].str.contains('sm-', na=False), 'device_name'] = 'Samsung'\n",
    "    dataframe.loc[dataframe['device_name'].str.contains('samsung', na=False), 'device_name'] = 'Samsung'\n",
    "    dataframe.loc[dataframe['device_name'].str.contains('SAMSUNG', na=False), 'device_name'] = 'Samsung'\n",
    "    dataframe.loc[dataframe['device_name'].str.contains('GT-', na=False), 'device_name'] = 'Samsung'\n",
    "    dataframe.loc[dataframe['device_name'].str.contains('Moto G', na=False), 'device_name'] = 'Motorola'\n",
    "    dataframe.loc[dataframe['device_name'].str.contains('Moto', na=False), 'device_name'] = 'Motorola'\n",
    "    dataframe.loc[dataframe['device_name'].str.contains('moto', na=False), 'device_name'] = 'Motorola'\n",
    "    dataframe.loc[dataframe['device_name'].str.contains('LG-', na=False), 'device_name'] = 'LG'\n",
    "    dataframe.loc[dataframe['device_name'].str.contains('rv:', na=False), 'device_name'] = 'RV'\n",
    "    dataframe.loc[dataframe['device_name'].str.contains('HUAWEI', na=False), 'device_name'] = 'Huawei'\n",
    "    dataframe.loc[dataframe['device_name'].str.contains('ALE-', na=False), 'device_name'] = 'Huawei'\n",
    "    dataframe.loc[dataframe['device_name'].str.contains('ale-', na=False), 'device_name'] = 'Huawei'\n",
    "    dataframe.loc[dataframe['device_name'].str.contains('-L', na=False), 'device_name'] = 'Huawei'\n",
    "    dataframe.loc[dataframe['device_name'].str.contains('Blade', na=False), 'device_name'] = 'ZTE'\n",
    "    dataframe.loc[dataframe['device_name'].str.contains('BLADE', na=False), 'device_name'] = 'ZTE'\n",
    "    dataframe.loc[dataframe['device_name'].str.contains('Linux', na=False), 'device_name'] = 'Linux'\n",
    "    dataframe.loc[dataframe['device_name'].str.contains('XT', na=False), 'device_name'] = 'Sony'\n",
    "    dataframe.loc[dataframe['device_name'].str.contains('HTC', na=False), 'device_name'] = 'HTC'\n",
    "    dataframe.loc[dataframe['device_name'].str.contains('ASUS', na=False), 'device_name'] = 'Asus'\n",
    "\n",
    "    dataframe.loc[dataframe.device_name.isin(dataframe.device_name.value_counts()[dataframe.device_name.value_counts() < 200].index), 'device_name'] = \"Others\"\n",
    "    \n",
    "    return dataframe"
   ]
  },
  {
   "cell_type": "code",
   "execution_count": 4,
   "id": "4866b4d3",
   "metadata": {
    "ExecuteTime": {
     "end_time": "2022-04-11T11:56:24.886924Z",
     "start_time": "2022-04-11T11:56:24.884384Z"
    }
   },
   "outputs": [],
   "source": [
    "# helper function for imputing transaction NaNs\n",
    "def impute_tran(df):\n",
    "    cate_cols = df.select_dtypes('string').columns\n",
    "    num_cols = df.columns[~df.columns.isin(cate_cols)]\n",
    "\n",
    "    # numerical using median\n",
    "    df[num_cols] = df[num_cols].fillna(df[num_cols].median())\n",
    "    # categorical explicit use str 'None'\n",
    "    df[cate_cols] = df[cate_cols].fillna('None')\n",
    "\n",
    "    return df\n",
    "\n",
    "# helper function for imputinh identity NaNs\n",
    "def impute_id(df, num_cols, cate_cols):\n",
    "    df[num_cols] = df[num_cols].fillna(df[num_cols].median())\n",
    "    \n",
    "    for col in cate_cols:\n",
    "        df[col].fillna('None', inplace = True)\n",
    "    \n",
    "    return df"
   ]
  },
  {
   "cell_type": "code",
   "execution_count": 5,
   "id": "8926d535",
   "metadata": {
    "ExecuteTime": {
     "end_time": "2022-04-11T11:56:25.433745Z",
     "start_time": "2022-04-11T11:56:25.431457Z"
    }
   },
   "outputs": [],
   "source": [
    "# grid search hyperparameters given a parameter grid, 5-fold cv\n",
    "def algorithm_pipeline(X_train_data, X_test_data, y_train_data, y_test_data,\n",
    "                       model, param_grid, cv=5, scoring_fit='roc_auc'):\n",
    "\n",
    "    gs = GridSearchCV(\n",
    "        estimator=model,\n",
    "        param_grid=param_grid,\n",
    "        cv=cv,\n",
    "        n_jobs=-1,\n",
    "        scoring=scoring_fit,\n",
    "        verbose=2\n",
    "    )\n",
    "    fitted_model = gs.fit(X_train_data, y_train_data)\n",
    "\n",
    "    pred = fitted_model.predict_proba(X_test_data)\n",
    "\n",
    "    return fitted_model, pred"
   ]
  },
  {
   "cell_type": "code",
   "execution_count": 6,
   "id": "c82e3d69",
   "metadata": {
    "ExecuteTime": {
     "end_time": "2022-04-11T11:56:25.976060Z",
     "start_time": "2022-04-11T11:56:25.971891Z"
    }
   },
   "outputs": [],
   "source": [
    "# use stratified k-fold to cross-validate tuned hyperparameters for lightGBMC\n",
    "# https://www.kaggle.com/code/nroman/lgb-single-model-lb-0-9419\n",
    "def train_lgb(X, y):\n",
    "\n",
    "    N_SPLITS = 5\n",
    "    skf = StratifiedKFold(n_splits=N_SPLITS)\n",
    "\n",
    "    aucs = list()\n",
    "\n",
    "    feature_importances = pd.DataFrame()\n",
    "    feature_importances['feature'] = X.columns\n",
    "\n",
    "    training_start_time = time()\n",
    "\n",
    "    for fold, (trn_idx, test_idx) in enumerate(skf.split(X, y)):\n",
    "        start_time = time()\n",
    "        print('Training on fold {}'.format(fold + 1))\n",
    "\n",
    "        trn_data = lgb.Dataset(X.iloc[trn_idx], label=y.iloc[trn_idx])\n",
    "        val_data = lgb.Dataset(X.iloc[test_idx], label=y.iloc[test_idx])\n",
    "        \n",
    "        clf = lgb.train(params, trn_data, 10000, valid_sets=[\n",
    "                        trn_data, val_data], verbose_eval=500, early_stopping_rounds=200) #es: 500->300->200\n",
    "        \n",
    "        feature_importances['fold_{}'.format(\n",
    "            fold + 1)] = clf.feature_importance()\n",
    "        \n",
    "        aucs.append(clf.best_score['valid_1']['auc'])\n",
    "        print('Fold {} finished in {}'.format(\n",
    "            fold + 1, str(datetime.timedelta(seconds=time() - start_time))))\n",
    "\n",
    "    print('-' * 50)\n",
    "    print('Training has finished')\n",
    "    print('Total training time is {}'.format(\n",
    "        str(datetime.timedelta(seconds=time() - training_start_time))))\n",
    "    print('Mean AUC:', np.mean(aucs))\n",
    "    print('-' * 50)\n",
    "    \n",
    "    feature_importances['average'] = feature_importances[['fold_{}'.format(fold + 1) for fold in range(skf.n_splits)]].mean(axis=1)\n",
    "#     feature_importances.to_csv('feature_importances.csv')\n",
    "    plt.figure(figsize=(16, 16))\n",
    "    sns.barplot(data=feature_importances.sort_values(by='average', ascending=False).head(30), x='average', y='feature');\n",
    "    plt.title('30 TOP feature importance over {} folds average'.format(skf.n_splits));\n",
    "    \n",
    "    best_iter = clf.best_iteration\n",
    "    clf = lgb.LGBMClassifier(**params, num_boost_round=best_iter)\n",
    "    return clf"
   ]
  },
  {
   "cell_type": "markdown",
   "id": "94bcb138",
   "metadata": {},
   "source": [
    "# 1. Understand the problem\n",
    "\n",
    "<ol>\n",
    "    <li> <b>Understand the problem</b> </li>\n",
    "    <li> Get the data </li>\n",
    "    <li> EDA and FE </li>\n",
    "    <li> Explore Models </li>\n",
    "    <li> Fine-tune Model</li>\n",
    "    <li> Present solution </li>\n",
    "</ol>\n",
    "\n",
    "- How is a transaction classified as fraud or legitimate\n",
    "- This is a ML project from Kaggle, there is definitely profit incentives among businesses to prevent frauds\n",
    "\n",
    "This is clearly a classification problem, since the label/outcome/response is whether or not the transaction is fraud.\n",
    "\n",
    "Later a few models will be built and have predictions, $\\hat{\\mathbf{y}}$, and known values, $\\mathbf{y}$\n",
    "\n",
    "The predictions depend on a particular model, $f$, which is a simplified version of the observations that (hopefully) removes noise from the data, leaving a robust signal."
   ]
  },
  {
   "cell_type": "markdown",
   "id": "4805d089",
   "metadata": {},
   "source": [
    "# 2. Get the data\n",
    "\n",
    "<ol>\n",
    "    <li> Understand the problem </li>\n",
    "    <li> <b>Get the data</b> </li>\n",
    "    <li> EDA and FE </li>\n",
    "    <li> Explore Models </li>\n",
    "    <li> Fine-tune Model</li>\n",
    "    <li> Present solution </li>\n",
    "</ol>\n",
    "\n",
    "The <b>IEEE-CIS Fraud</b> data can be downloaded from [Kaggle](https://www.kaggle.com/competitions/ieee-fraud-detection/data) and saved as a few local .csv files that can be read as a pandas dataframe from this working directory. "
   ]
  },
  {
   "cell_type": "code",
   "execution_count": 7,
   "id": "dfe5687d",
   "metadata": {
    "ExecuteTime": {
     "end_time": "2022-04-11T11:56:42.887755Z",
     "start_time": "2022-04-11T11:56:27.585966Z"
    }
   },
   "outputs": [],
   "source": [
    "train_identity = pd.read_csv('train_identity.csv')\n",
    "test_identity = pd.read_csv('test_identity.csv')\n",
    "train_transaction = pd.read_csv('train_transaction.csv')\n",
    "test_transaction = pd.read_csv('test_transaction.csv')"
   ]
  },
  {
   "cell_type": "code",
   "execution_count": 8,
   "id": "7f7c67b3",
   "metadata": {
    "ExecuteTime": {
     "end_time": "2022-04-11T11:58:26.898140Z",
     "start_time": "2022-04-11T11:56:58.566062Z"
    }
   },
   "outputs": [
    {
     "name": "stdout",
     "output_type": "stream",
     "text": [
      "Memory usage of dataframe is 1775.15 MB\n",
      "Memory usage after optimization is: 542.35 MB\n",
      "Decreased by 69.4%\n",
      "Memory usage of dataframe is 1519.24 MB\n",
      "Memory usage after optimization is: 472.59 MB\n",
      "Decreased by 68.9%\n",
      "Memory usage of dataframe is 45.12 MB\n",
      "Memory usage after optimization is: 25.86 MB\n",
      "Decreased by 42.7%\n",
      "Memory usage of dataframe is 44.39 MB\n",
      "Memory usage after optimization is: 25.44 MB\n",
      "Decreased by 42.7%\n"
     ]
    }
   ],
   "source": [
    "# reduce memory usage\n",
    "train_transaction = reduce_mem_usage(train_transaction)\n",
    "test_transaction = reduce_mem_usage(test_transaction)\n",
    "train_identity = reduce_mem_usage(train_identity)\n",
    "test_identity = reduce_mem_usage(test_identity)"
   ]
  },
  {
   "cell_type": "markdown",
   "id": "04780986",
   "metadata": {},
   "source": [
    "# 3. EDA and FE\n",
    "\n",
    "<ol>\n",
    "    <li> Understand the problem </li>\n",
    "    <li> Get the data </li>\n",
    "    <li> <b>EDA and FE</b> </li>\n",
    "    <li> Explore Models </li>\n",
    "    <li> Fine-tune Model</li>\n",
    "    <li> Present solution </li>\n",
    "</ol>\n",
    "\n",
    "Simple exploratory data analysis and group feature engineering efforts<br>"
   ]
  },
  {
   "cell_type": "code",
   "execution_count": 9,
   "id": "f47dfe75",
   "metadata": {
    "ExecuteTime": {
     "end_time": "2022-04-11T11:58:33.213380Z",
     "start_time": "2022-04-11T11:58:33.209819Z"
    }
   },
   "outputs": [
    {
     "data": {
      "text/plain": [
       "((144233, 41), (141907, 41))"
      ]
     },
     "execution_count": 9,
     "metadata": {},
     "output_type": "execute_result"
    }
   ],
   "source": [
    "train_identity.shape, test_identity.shape"
   ]
  },
  {
   "cell_type": "code",
   "execution_count": 10,
   "id": "1dab7534",
   "metadata": {
    "ExecuteTime": {
     "end_time": "2022-04-11T11:58:34.133132Z",
     "start_time": "2022-04-11T11:58:34.130506Z"
    }
   },
   "outputs": [
    {
     "data": {
      "text/plain": [
       "((590540, 394), (506691, 393))"
      ]
     },
     "execution_count": 10,
     "metadata": {},
     "output_type": "execute_result"
    }
   ],
   "source": [
    "train_transaction.shape, test_transaction.shape"
   ]
  },
  {
   "cell_type": "code",
   "execution_count": 12,
   "id": "6756a524",
   "metadata": {
    "ExecuteTime": {
     "end_time": "2022-04-11T11:59:34.194190Z",
     "start_time": "2022-04-11T11:59:13.180689Z"
    }
   },
   "outputs": [
    {
     "data": {
      "image/png": "[encoded data removed]",
      "text/plain": [
       "<Figure size 432x288 with 1 Axes>"
      ]
     },
     "metadata": {
      "needs_background": "light"
     },
     "output_type": "display_data"
    },
    {
     "name": "stdout",
     "output_type": "stream",
     "text": [
      "target_dimension after PCA: 2\n"
     ]
    }
   ],
   "source": [
    "# pca on v features of transaction data\n",
    "vcols = [f'V{i}' for i in range(1, 340)]\n",
    "\n",
    "pca = PCA()\n",
    "pca.fit(train_transaction[vcols].fillna(-1))\n",
    "plt.ylabel('Explained Variance')\n",
    "plt.xlabel('Dimensions')\n",
    "plt.plot(np.add.accumulate(pca.explained_variance_ratio_))\n",
    "plt.show()\n",
    "\n",
    "# maintaining 99% of variance\n",
    "pca = PCA(n_components=0.99)\n",
    "vcol_pca = pca.fit_transform(train_transaction[vcols].fillna(-1))\n",
    "print(\"target_dimension after PCA:\", vcol_pca.ndim)"
   ]
  },
  {
   "cell_type": "markdown",
   "id": "20c661d3",
   "metadata": {},
   "source": [
    "Observe: <br>\n",
    "\n",
    "As the number of dimensions increases, we do not see the variance explained increase in any meaningful manner after 2 features. Hence, dimension = 2 is effectively the 'elbow point' and we will perform PCA later setting the target dimension = 2. "
   ]
  },
  {
   "cell_type": "code",
   "execution_count": 13,
   "id": "07607832",
   "metadata": {
    "ExecuteTime": {
     "end_time": "2022-04-11T11:59:46.300000Z",
     "start_time": "2022-04-11T11:59:46.295796Z"
    }
   },
   "outputs": [
    {
     "data": {
      "text/plain": [
       "PC-1    V160\n",
       "PC-2    V307\n",
       "dtype: object"
      ]
     },
     "execution_count": 13,
     "metadata": {},
     "output_type": "execute_result"
    }
   ],
   "source": [
    "# understand which v features contributed the most for the pca-ed column\n",
    "df_pca = pd.DataFrame(pca.components_,columns=vcols,index = ['PC-1','PC-2']).abs()\n",
    "df_pca.idxmax(axis=1)"
   ]
  },
  {
   "cell_type": "code",
   "execution_count": 14,
   "id": "87a1a6d7",
   "metadata": {
    "ExecuteTime": {
     "end_time": "2022-04-11T11:59:53.563900Z",
     "start_time": "2022-04-11T11:59:53.561843Z"
    }
   },
   "outputs": [],
   "source": [
    "# make test identity having the same column names as train indentity\n",
    "test_identity.columns = train_identity.columns.values.tolist()"
   ]
  },
  {
   "cell_type": "code",
   "execution_count": 15,
   "id": "e1298872",
   "metadata": {
    "ExecuteTime": {
     "end_time": "2022-04-11T11:59:55.479866Z",
     "start_time": "2022-04-11T11:59:55.109862Z"
    }
   },
   "outputs": [],
   "source": [
    "id_cols = list(train_identity.columns.values)\n",
    "trn_cols = list(train_transaction.drop('isFraud', axis=1).columns.values)"
   ]
  },
  {
   "cell_type": "code",
   "execution_count": 16,
   "id": "6de4ccc1",
   "metadata": {
    "ExecuteTime": {
     "end_time": "2022-04-11T11:59:58.687924Z",
     "start_time": "2022-04-11T11:59:56.190542Z"
    }
   },
   "outputs": [],
   "source": [
    "X_train = pd.merge(train_transaction[trn_cols + ['isFraud']], train_identity[id_cols], how='left')\n",
    "X_test = pd.merge(test_transaction[trn_cols], test_identity[id_cols], how='left')"
   ]
  },
  {
   "cell_type": "code",
   "execution_count": 17,
   "id": "81947558",
   "metadata": {
    "ExecuteTime": {
     "end_time": "2022-04-11T12:00:02.022936Z",
     "start_time": "2022-04-11T12:00:00.258990Z"
    }
   },
   "outputs": [],
   "source": [
    "all_data = X_train.append(X_test, sort=False).reset_index(drop=True)"
   ]
  },
  {
   "cell_type": "code",
   "execution_count": 18,
   "id": "d63e9640",
   "metadata": {
    "ExecuteTime": {
     "end_time": "2022-04-11T12:00:16.648399Z",
     "start_time": "2022-04-11T12:00:03.633883Z"
    }
   },
   "outputs": [],
   "source": [
    "# performing PCA on joined train & test data\n",
    "# https://www.kaggle.com/code/plasticgrammer/ieee-cis-fraud-detection-eda/notebook\n",
    "vcols = [f'V{i}' for i in range(1,340)]\n",
    "\n",
    "sc = MinMaxScaler()\n",
    "\n",
    "pca = PCA(n_components=2)\n",
    "vcol_pca = pca.fit_transform(sc.fit_transform(all_data[vcols].fillna(-1)))\n",
    "\n",
    "all_data['_vcol_pca_0'] = vcol_pca[:,0]\n",
    "all_data['_vcol_pca_1'] = vcol_pca[:,1]\n",
    "all_data['_vcol_nulls'] = all_data[vcols].isnull().sum(axis=1)\n",
    "\n",
    "all_data.drop(vcols, axis=1, inplace=True)"
   ]
  },
  {
   "cell_type": "code",
   "execution_count": 19,
   "id": "e6fe3d0f",
   "metadata": {
    "ExecuteTime": {
     "end_time": "2022-04-11T12:00:49.081623Z",
     "start_time": "2022-04-11T12:00:48.643222Z"
    }
   },
   "outputs": [],
   "source": [
    "X_train = all_data[all_data['isFraud'].notnull()]\n",
    "X_test = all_data[all_data['isFraud'].isnull()].drop('isFraud', axis=1)"
   ]
  },
  {
   "cell_type": "code",
   "execution_count": 20,
   "id": "65edfdac",
   "metadata": {
    "ExecuteTime": {
     "end_time": "2022-04-11T12:00:50.653018Z",
     "start_time": "2022-04-11T12:00:49.873169Z"
    }
   },
   "outputs": [],
   "source": [
    "# streamline workflow, keep as checkpoint\n",
    "X_train.to_pickle(\"pca_train.pkl\")\n",
    "X_test.to_pickle(\"pca_test.pkl\")"
   ]
  },
  {
   "cell_type": "code",
   "execution_count": 21,
   "id": "5cea9c14",
   "metadata": {
    "ExecuteTime": {
     "end_time": "2022-04-11T12:00:52.563577Z",
     "start_time": "2022-04-11T12:00:51.676742Z"
    }
   },
   "outputs": [],
   "source": [
    "train = pd.read_pickle('pca_train.pkl')\n",
    "test = pd.read_pickle('pca_test.pkl')"
   ]
  },
  {
   "cell_type": "code",
   "execution_count": 22,
   "id": "c458ee62",
   "metadata": {
    "ExecuteTime": {
     "end_time": "2022-04-11T12:00:55.002844Z",
     "start_time": "2022-04-11T12:00:53.372049Z"
    }
   },
   "outputs": [
    {
     "name": "stdout",
     "output_type": "stream",
     "text": [
      "Memory usage of dataframe is 232.03 MB\n",
      "Memory usage after optimization is: 223.02 MB\n",
      "Decreased by 3.9%\n",
      "Memory usage of dataframe is 195.22 MB\n",
      "Memory usage after optimization is: 190.39 MB\n",
      "Decreased by 2.5%\n"
     ]
    }
   ],
   "source": [
    "train = reduce_mem_usage(train)\n",
    "test = reduce_mem_usage(test)"
   ]
  },
  {
   "cell_type": "code",
   "execution_count": 23,
   "id": "76f32df3",
   "metadata": {
    "ExecuteTime": {
     "end_time": "2022-04-11T12:00:59.426538Z",
     "start_time": "2022-04-11T12:00:58.153992Z"
    }
   },
   "outputs": [
    {
     "name": "stdout",
     "output_type": "stream",
     "text": [
      "features dropped due to high % of missing values ['id_24', 'id_25', 'id_07', 'id_08', 'id_21', 'id_26', 'id_23', 'id_22', 'id_27', 'dist2', 'D7', 'id_18']\n"
     ]
    }
   ],
   "source": [
    "data_null = train.isnull().sum()/len(train) * 100\n",
    "data_null = data_null.drop(data_null[data_null == 0].index).sort_values(ascending=False)[:500]\n",
    "missing_data = pd.DataFrame({'Missing Ratio': data_null})\n",
    "cols_drop = missing_data[missing_data['Missing Ratio'] > 90].index.values.tolist()\n",
    "\n",
    "# remove columns with more than 90% missing values\n",
    "train = train.drop(columns=cols_drop)\n",
    "test = test.drop(columns=cols_drop)\n",
    "\n",
    "print(\"features dropped due to high % of missing values\", cols_drop)"
   ]
  },
  {
   "cell_type": "code",
   "execution_count": 24,
   "id": "d023f2a7",
   "metadata": {
    "ExecuteTime": {
     "end_time": "2022-04-11T12:01:05.623121Z",
     "start_time": "2022-04-11T12:01:05.621147Z"
    }
   },
   "outputs": [],
   "source": [
    "transaction_cat_columns = ['ProductCD', 'card1', 'card2', 'card3', 'card4', 'card5', 'card6', 'addr1',\n",
    "                           'addr2', 'P_emaildomain', 'R_emaildomain', 'M1', 'M2', 'M3', 'M4', 'M5', 'M6', 'M7', 'M8', 'M9']"
   ]
  },
  {
   "cell_type": "code",
   "execution_count": 25,
   "id": "1cf0887f",
   "metadata": {
    "ExecuteTime": {
     "end_time": "2022-04-11T12:01:10.640805Z",
     "start_time": "2022-04-11T12:01:06.805409Z"
    }
   },
   "outputs": [],
   "source": [
    "train[transaction_cat_columns] = train[transaction_cat_columns].astype('string')\n",
    "test[transaction_cat_columns] = test[transaction_cat_columns].astype('string')\n",
    "transaction_cat = train.select_dtypes('string')"
   ]
  },
  {
   "cell_type": "code",
   "execution_count": 26,
   "id": "54307b6b",
   "metadata": {
    "ExecuteTime": {
     "end_time": "2022-04-11T12:01:11.877357Z",
     "start_time": "2022-04-11T12:01:11.201340Z"
    }
   },
   "outputs": [],
   "source": [
    "# Calculating the correlation of missing (nan) values\n",
    "# Ignore columns that have no null entries\n",
    "no_null_cat = transaction_cat.iloc[:, [i for i, n in enumerate(np.var(transaction_cat.isnull(), axis='rows')) if n > 0]]\n",
    "null_corr = no_null_cat.isnull().corr()"
   ]
  },
  {
   "cell_type": "code",
   "execution_count": 27,
   "id": "0faba5e8",
   "metadata": {
    "ExecuteTime": {
     "end_time": "2022-04-11T12:01:12.817642Z",
     "start_time": "2022-04-11T12:01:12.815139Z"
    }
   },
   "outputs": [],
   "source": [
    "# Only get the pair of correlations that are above a certain threshold\n",
    "def get_high_corr_pairs(df, threshold):\n",
    "    correlations = set()\n",
    "    labels = df.columns\n",
    "\n",
    "    for i in range(len(labels)):\n",
    "        for j in range(i):\n",
    "            if i == j:\n",
    "                continue\n",
    "\n",
    "            if df.iloc[i,j] >= threshold:\n",
    "                correlations.add(frozenset([labels[i],labels[j]]))\n",
    "    \n",
    "    return correlations"
   ]
  },
  {
   "cell_type": "code",
   "execution_count": 28,
   "id": "c83e0692",
   "metadata": {
    "ExecuteTime": {
     "end_time": "2022-04-11T12:01:13.991482Z",
     "start_time": "2022-04-11T12:01:13.988002Z"
    }
   },
   "outputs": [],
   "source": [
    "# Get the pair of variables that have a direct correlation in their nulls,\n",
    "# meaning when variable A is null, variable B is null and vice versa.\n",
    "null_pairs = get_high_corr_pairs(null_corr, 1)"
   ]
  },
  {
   "cell_type": "code",
   "execution_count": 29,
   "id": "1709bf59",
   "metadata": {
    "ExecuteTime": {
     "end_time": "2022-04-11T12:01:14.903567Z",
     "start_time": "2022-04-11T12:01:14.901110Z"
    }
   },
   "outputs": [],
   "source": [
    "# Join the related sets together\n",
    "def combine_sets(sets):\n",
    "    combined_sets = [] \n",
    "\n",
    "    for this_set in sets:\n",
    "        has_combined = False\n",
    "        \n",
    "        for combined_set in combined_sets:\n",
    "            #If there exists a set that contains one of the elements, then combine\n",
    "            if not this_set.isdisjoint(combined_set):\n",
    "                combined_set.update(this_set)\n",
    "                has_combined = True\n",
    "                break\n",
    "        \n",
    "        if not has_combined:\n",
    "            combined_sets.append(set(this_set))\n",
    "            \n",
    "    return combined_sets"
   ]
  },
  {
   "cell_type": "code",
   "execution_count": 30,
   "id": "8beb8aff",
   "metadata": {
    "ExecuteTime": {
     "end_time": "2022-04-11T12:01:15.827716Z",
     "start_time": "2022-04-11T12:01:15.825865Z"
    }
   },
   "outputs": [],
   "source": [
    "combined_null_pairs = combine_sets(null_pairs)"
   ]
  },
  {
   "cell_type": "code",
   "execution_count": 31,
   "id": "629321d2",
   "metadata": {
    "ExecuteTime": {
     "end_time": "2022-04-11T12:01:16.607646Z",
     "start_time": "2022-04-11T12:01:16.605359Z"
    }
   },
   "outputs": [],
   "source": [
    "# Combines categorical columns as strings. If any of the columns are null, then replace it with 'None'\n",
    "def combine_columns(df, columns_to_combine):\n",
    "    new_columns = []\n",
    "    for columns in columns_to_combine:\n",
    "        # Get the columns as a sorted list to index the df with and have a consistent name for the column\n",
    "        columns = sorted(list(columns))\n",
    "        new_column = ' '.join(columns)\n",
    "\n",
    "        new_columns.append(new_column)\n",
    "\n",
    "        df[new_column] = df[columns[0]].str.cat(df[columns[1:]], sep=' ')\n",
    "\n",
    "        return df"
   ]
  },
  {
   "cell_type": "code",
   "execution_count": 32,
   "id": "b61cc49b",
   "metadata": {
    "ExecuteTime": {
     "end_time": "2022-04-11T12:01:17.649174Z",
     "start_time": "2022-04-11T12:01:17.450700Z"
    }
   },
   "outputs": [],
   "source": [
    "# Combine the correlated null columns together \n",
    "train = combine_columns(train, combined_null_pairs)\n",
    "test = combine_columns(test, combined_null_pairs)"
   ]
  },
  {
   "cell_type": "code",
   "execution_count": 33,
   "id": "1ead30dd",
   "metadata": {
    "ExecuteTime": {
     "end_time": "2022-04-11T12:01:28.338241Z",
     "start_time": "2022-04-11T12:01:18.440019Z"
    }
   },
   "outputs": [],
   "source": [
    "# process identity data\n",
    "train = id_process(train)\n",
    "test = id_process(test)"
   ]
  },
  {
   "cell_type": "code",
   "execution_count": 34,
   "id": "526b4d29",
   "metadata": {
    "ExecuteTime": {
     "end_time": "2022-04-11T12:01:30.617391Z",
     "start_time": "2022-04-11T12:01:30.615155Z"
    }
   },
   "outputs": [],
   "source": [
    "id_num_cols = ['id_01', 'id_02', 'id_03', 'id_04', 'id_05',\n",
    "               'id_06', 'id_09', 'id_10', 'id_11']\n",
    "\n",
    "id_cate_cols = ['id_12', 'id_13', 'id_14', 'id_15', 'id_16', 'id_17', 'id_19', 'id_20',\n",
    "                'id_28', 'id_29', 'id_30', 'id_31', 'id_32', 'id_33', 'id_34', \n",
    "                'id_35', 'id_36', 'id_37', 'id_38',\n",
    "                'DeviceType', 'DeviceInfo']"
   ]
  },
  {
   "cell_type": "code",
   "execution_count": 35,
   "id": "3077b5a4",
   "metadata": {
    "ExecuteTime": {
     "end_time": "2022-04-11T12:01:34.721947Z",
     "start_time": "2022-04-11T12:01:32.271852Z"
    }
   },
   "outputs": [],
   "source": [
    "# impute the leftover nan columns\n",
    "train = impute_id(train, id_num_cols, id_cate_cols)\n",
    "test = impute_id(test, id_num_cols, id_cate_cols)"
   ]
  },
  {
   "cell_type": "code",
   "execution_count": 36,
   "id": "3ad90185",
   "metadata": {
    "ExecuteTime": {
     "end_time": "2022-04-11T12:01:37.090734Z",
     "start_time": "2022-04-11T12:01:35.666087Z"
    }
   },
   "outputs": [],
   "source": [
    "train = train.drop(columns=['device_version', 'version_id_31'])\n",
    "test = test.drop(columns=['device_version', 'version_id_31'])"
   ]
  },
  {
   "cell_type": "code",
   "execution_count": 37,
   "id": "e8bbd032",
   "metadata": {
    "ExecuteTime": {
     "end_time": "2022-04-11T12:01:45.318699Z",
     "start_time": "2022-04-11T12:01:38.820446Z"
    }
   },
   "outputs": [],
   "source": [
    "# impute transaction data\n",
    "train = impute_tran(train)\n",
    "test = impute_tran(test)"
   ]
  },
  {
   "cell_type": "code",
   "execution_count": 38,
   "id": "7d0dcb04",
   "metadata": {
    "ExecuteTime": {
     "end_time": "2022-04-11T12:01:46.883295Z",
     "start_time": "2022-04-11T12:01:46.851860Z"
    }
   },
   "outputs": [],
   "source": [
    "# https://www.kaggle.com/code/davidcairuz/feature-engineering-lightgbm\n",
    "# add new feature -- log of transaction amount\n",
    "train['TransactionAmt_Log'] = np.log(train['TransactionAmt'])\n",
    "test['TransactionAmt_Log'] = np.log(test['TransactionAmt'])\n",
    "\n",
    "# add new feature -- which day of week a transaction happened.\n",
    "# when the value of \"Transaction_day_of_week\" is 0, means that transactions happened in Sunday.\n",
    "train['Transaction_day_of_week'] = np.floor((train['TransactionDT'] / (3600 * 24) - 1) % 7)\n",
    "test['Transaction_day_of_week'] = np.floor((test['TransactionDT'] / (3600 * 24) - 1) % 7)\n",
    "\n",
    "# add new feature - which time of the day a transaction happened.\n",
    "train['Transaction_hour'] = np.floor(train['TransactionDT'] / 3600) % 24\n",
    "test['Transaction_hour'] = np.floor(test['TransactionDT'] / 3600) % 24"
   ]
  },
  {
   "cell_type": "code",
   "execution_count": 39,
   "id": "84cf81ae",
   "metadata": {
    "ExecuteTime": {
     "end_time": "2022-04-11T12:01:49.933230Z",
     "start_time": "2022-04-11T12:01:47.853038Z"
    }
   },
   "outputs": [
    {
     "data": {
      "text/plain": [
       "(False, False)"
      ]
     },
     "execution_count": 39,
     "metadata": {},
     "output_type": "execute_result"
    }
   ],
   "source": [
    "# check all NaNs have been imputed\n",
    "train.isna().any().any(), test.isna().any().any()"
   ]
  },
  {
   "cell_type": "markdown",
   "id": "2f96622e",
   "metadata": {},
   "source": [
    "Output of `False` means there is no NaN entry in the dataframe. "
   ]
  },
  {
   "cell_type": "code",
   "execution_count": 40,
   "id": "fb760658",
   "metadata": {
    "ExecuteTime": {
     "end_time": "2022-04-11T12:01:56.517595Z",
     "start_time": "2022-04-11T12:01:53.883738Z"
    }
   },
   "outputs": [],
   "source": [
    "# help streamline workflow\n",
    "train.to_pickle(\"pca_p_train.pkl\")\n",
    "test.to_pickle(\"pca_p_test.pkl\")"
   ]
  },
  {
   "cell_type": "code",
   "execution_count": 41,
   "id": "2cccf8d5",
   "metadata": {
    "ExecuteTime": {
     "end_time": "2022-04-11T12:01:57.743304Z",
     "start_time": "2022-04-11T12:01:57.511741Z"
    }
   },
   "outputs": [],
   "source": [
    "# convert categorical value to object type before label encoding\n",
    "cate_cols = train.select_dtypes('string').columns\n",
    "train[cate_cols] = train[cate_cols].astype(object)\n",
    "test[cate_cols] = test[cate_cols].astype(object)"
   ]
  },
  {
   "cell_type": "markdown",
   "id": "0c219817",
   "metadata": {},
   "source": [
    "# 4. Explore Models\n",
    "\n",
    "<ol>\n",
    "    <li> Understand the problem </li>\n",
    "    <li> Get the data </li>\n",
    "    <li> EDA and FE </li>\n",
    "    <li> <b>Explore Models</b> </li>\n",
    "    <li> Fine-tune Model</li>\n",
    "    <li> Present solution </li>\n",
    "</ol>\n",
    "\n",
    "Explore and fitting a range of models for this classification task <br>"
   ]
  },
  {
   "cell_type": "markdown",
   "id": "f25dfccb",
   "metadata": {},
   "source": [
    "## 4.1 Gradient Boosting Classifier (GBMC)"
   ]
  },
  {
   "cell_type": "code",
   "execution_count": 42,
   "id": "9bc4d5d5",
   "metadata": {
    "ExecuteTime": {
     "end_time": "2022-04-11T12:02:29.668430Z",
     "start_time": "2022-04-11T12:02:03.323085Z"
    }
   },
   "outputs": [],
   "source": [
    "# using a label encoder to convert all categorical features to numerical\n",
    "for col in train.columns:\n",
    "    if train[col].dtype == 'object':\n",
    "        le = LabelEncoder()\n",
    "        le.fit(list(train[col].astype(str).values) + list(test[col].astype(str).values))\n",
    "        train[col] = le.transform(list(train[col].astype(str).values))\n",
    "        test[col] = le.transform(list(test[col].astype(str).values))"
   ]
  },
  {
   "cell_type": "code",
   "execution_count": 43,
   "id": "9a687298",
   "metadata": {
    "ExecuteTime": {
     "end_time": "2022-04-11T12:02:35.057860Z",
     "start_time": "2022-04-11T12:02:34.432927Z"
    }
   },
   "outputs": [],
   "source": [
    "# separate into feature variables and target variable\n",
    "X_train = train.sort_values('TransactionDT').drop(['isFraud', 'TransactionDT',  'TransactionID'], axis=1)\n",
    "y_train = train.sort_values('TransactionDT')['isFraud']\n",
    "y_train = y_train.astype('int8')\n",
    "X_test = test.sort_values('TransactionDT').drop(['TransactionDT', 'TransactionID'], axis=1)"
   ]
  },
  {
   "cell_type": "code",
   "execution_count": 44,
   "id": "fcad8637",
   "metadata": {
    "ExecuteTime": {
     "end_time": "2022-04-11T12:02:35.861423Z",
     "start_time": "2022-04-11T12:02:35.858917Z"
    }
   },
   "outputs": [
    {
     "data": {
      "text/plain": [
       "((590540, 89), (506691, 89))"
      ]
     },
     "execution_count": 44,
     "metadata": {},
     "output_type": "execute_result"
    }
   ],
   "source": [
    "X_train.shape, X_test.shape"
   ]
  },
  {
   "cell_type": "code",
   "execution_count": 45,
   "id": "54aaf358",
   "metadata": {
    "ExecuteTime": {
     "end_time": "2022-04-11T12:02:42.511450Z",
     "start_time": "2022-04-11T12:02:40.614242Z"
    }
   },
   "outputs": [
    {
     "name": "stdout",
     "output_type": "stream",
     "text": [
      "Memory usage of dataframe is 261.32 MB\n",
      "Memory usage after optimization is: 87.29 MB\n",
      "Decreased by 66.6%\n",
      "Memory usage of dataframe is 224.21 MB\n",
      "Memory usage after optimization is: 74.90 MB\n",
      "Decreased by 66.6%\n"
     ]
    }
   ],
   "source": [
    "X_train = reduce_mem_usage(X_train)\n",
    "X_test = reduce_mem_usage(X_test)"
   ]
  },
  {
   "cell_type": "code",
   "execution_count": 46,
   "id": "cd45bb33",
   "metadata": {
    "ExecuteTime": {
     "end_time": "2022-04-11T12:02:47.953419Z",
     "start_time": "2022-04-11T12:02:45.625381Z"
    }
   },
   "outputs": [],
   "source": [
    "# using default parameters to fit GBMC\n",
    "base_lgb = lgb.LGBMClassifier()\n",
    "base_lgb.fit(X_train, y_train)\n",
    "y_preds = base_lgb.predict_proba(X_test)[:, 1]"
   ]
  },
  {
   "cell_type": "code",
   "execution_count": 47,
   "id": "037da211",
   "metadata": {
    "ExecuteTime": {
     "end_time": "2022-04-11T12:02:55.240288Z",
     "start_time": "2022-04-11T12:02:54.683382Z"
    }
   },
   "outputs": [],
   "source": [
    "sub = pd.read_csv('sample_submission.csv')\n",
    "sub['isFraud'] = y_preds\n",
    "sub.to_csv('lgb_default.csv', index=False)"
   ]
  },
  {
   "cell_type": "markdown",
   "id": "ec9952e5",
   "metadata": {},
   "source": [
    "**Default GBMC Score, private 0.895, public 0.917**"
   ]
  },
  {
   "cell_type": "markdown",
   "id": "d0e34b76",
   "metadata": {},
   "source": [
    "![Kaggle score!](default_lgb.jpg \"Default LightGBMC Score\")"
   ]
  },
  {
   "cell_type": "markdown",
   "id": "fbaf053c",
   "metadata": {},
   "source": [
    "## 4.2 Other Models Trialled \n",
    "\n",
    "A few other classifier models have also been explored in the team:\n",
    "\n",
    "<ol>\n",
    "    <li> Linear Model </li>\n",
    "    <li> Adaboosting Classifier</li>\n",
    "    <li> Random Forest Classifier </li>\n",
    "</ol>\n",
    "\n",
    "Because each model has been fitted with different features and evaluated using different metrics, for brevity, code entries will be largely omitted in the following sections. Instead, there will be high-level pseudo-code/text descriptions summarising their **fitting** and **tuning** process. "
   ]
  },
  {
   "cell_type": "markdown",
   "id": "20e503ed",
   "metadata": {},
   "source": [
    "### 4.2.1 Linear Model\n",
    "\n",
    "* Explored a selection of linear models\n",
    "    * `LogisticRegression` \n",
    "    * `Lasso`\n",
    "    * `RidgeClassifier`\n",
    "    * `ElasticNet` <br><br>\n",
    "    \n",
    "* Using default setting on all the above models, `LogisticRegression` performs the best and it is selected for further tuning <br><br>\n",
    "\n",
    "* Used native cross-validation method `LogisticRegressionCV` to tune hyperparameter `Cs`\n",
    "    * `Cs` describes the inverse of regularization strength.\n",
    "    * Regularization improves the conditioning of the problem and reduces the variance of the estimates. \n",
    "    * Smaller values specify stronger regularization to reduce overfitting. <br><br>\n",
    "\n",
    "* Hyperparameter `max_iter`, maximum number of iterations taken for the solvers to converge, is also varied to evaluate performance improvement. <br><br>\n",
    "\n",
    "* Model with best `Cs` and `max_iter` is fitted and uploaded to Kaggle to compare private score\n",
    "    * `Cs` = 10\n",
    "    * `max_iter` = 80\n",
    "    * **final private score**: **0.813**"
   ]
  },
  {
   "cell_type": "markdown",
   "id": "8fb0cf75",
   "metadata": {},
   "source": [
    "### 4.2.2 Adaboost Classifier\n",
    "\n",
    "* Default performance using a weak decision tree learner: private score = 0.609<br><br>\n",
    "\n",
    "* Introducing additional feature engineering from Kaggle discussion on **magic feature: 'uid' (https://www.kaggle.com/c/ieee-fraud-detection/discussion/111284)** sees default performance of Adaboost improve to 0.625<br><br>\n",
    "\n",
    "* Used `GridSearchCV` for tuning Adaboost hyperparameters:\n",
    "    * `n_estimators` number of weak tree learners in the ensemble\n",
    "    * `base_estimator_max_depth` the depth of tree learners\n",
    "    * `learning_rate` learning rate<br><br>\n",
    "\n",
    "* Used different metrics to measure tuning performance:\n",
    "    * `accuracy_score`, the fraction of correctly classified samples\n",
    "    * `roc_auc_score`, Area Under the Receiver Operating Characteristic Curve from prediction scores\n",
    "    * `f1_score`, a harmonic mean of the precision and recall<br><br>\n",
    "\n",
    "* Best performing model from each scoring metric is outputted to Kaggle to evaluate private score\n",
    "    * best set of parameters: `learning_rate = 1`, `base_estimator_max_depth = 1`, `n_estimators = 100`\n",
    "    * best scoring metric: f1\n",
    "    * **final private score**: **0.872**<br><br>\n",
    " \n",
    "* Top 10 features of Adaboost Classifier\n",
    " ![Gini Importance!](ada_fi.png \"Adaboost Feature Importance\")"
   ]
  },
  {
   "cell_type": "markdown",
   "id": "2e863082",
   "metadata": {},
   "source": [
    "### 4.2.3 Random Forest Classifier\n",
    "\n",
    "* Performance using default random forest parameters, private score = 0.861541 <br><br>\n",
    "\n",
    "* Used `GridSearchCV` for tuning random forest hyperparameters:\n",
    "    * `n_estimators` number of weak tree learners in the ensemble/forest\n",
    "    * `min_sample_split` minimum number of samples required to split an internal tree node\n",
    "    * `class_weight = 'balanced_subsample'` adjust weights inversely proportional to class frequencies in the bootstrap sample for every tree<br><br>\n",
    "    \n",
    "* Used `f1_score` metrics to evaluate tuning performance:\n",
    "    * `f1_score` is selected to evaluate random forest because the training data is highly imbalanced\n",
    "    * A few other metrics such as `accuracy_score`, `roc_auc_score`, `precision_score` and `recall_score` were also tested<br><br>\n",
    "    \n",
    "* Best model from hyperparameters tuning is outputted to Kaggle to evaluate private score\n",
    "    * best set of parameters: `min_sample_split = 100`, `class_weight = 'balanced_subsample'`, `n_estimators = 100`\n",
    "    * **final private score**: **0.891**"
   ]
  },
  {
   "cell_type": "markdown",
   "id": "f7758a56",
   "metadata": {},
   "source": [
    "# 5. Fine-tune Model (GBMC)\n",
    "\n",
    "<ol>\n",
    "    <li> Understand the problem </li>\n",
    "    <li> Get the data </li>\n",
    "    <li> EDA and FE </li>\n",
    "    <li> Explore Models </li>\n",
    "    <li> <b>Fine-tune Model</b></li>\n",
    "    <li> Present solution </li>\n",
    "</ol>\n",
    "\n",
    "\n",
    "Additional Feature engineering and Hyperparameter tuning to improve GMBC performance"
   ]
  },
  {
   "cell_type": "code",
   "execution_count": 48,
   "id": "8c2e4a59",
   "metadata": {
    "ExecuteTime": {
     "end_time": "2022-04-11T12:03:14.166943Z",
     "start_time": "2022-04-11T12:03:12.984155Z"
    }
   },
   "outputs": [],
   "source": [
    "test = pd.read_pickle(\"pca_p_test.pkl\")\n",
    "train = pd.read_pickle(\"pca_p_train.pkl\")"
   ]
  },
  {
   "cell_type": "markdown",
   "id": "c47201ce",
   "metadata": {},
   "source": [
    "## Additional Feature engineering "
   ]
  },
  {
   "cell_type": "code",
   "execution_count": 49,
   "id": "f820e3f8",
   "metadata": {
    "ExecuteTime": {
     "end_time": "2022-04-11T12:03:16.374681Z",
     "start_time": "2022-04-11T12:03:16.133430Z"
    }
   },
   "outputs": [],
   "source": [
    "# https://www.kaggle.com/code/nroman/eda-for-cis-fraud-detection/notebook\n",
    "# card1 frequency encoding\n",
    "train['card1_count_full'] = train['card1'].map(pd.concat([train['card1'], test['card1']], ignore_index=True).value_counts(dropna=False))\n",
    "test['card1_count_full'] = test['card1'].map(pd.concat([train['card1'], test['card1']], ignore_index=True).value_counts(dropna=False))"
   ]
  },
  {
   "cell_type": "code",
   "execution_count": 50,
   "id": "0571e615",
   "metadata": {
    "ExecuteTime": {
     "end_time": "2022-04-11T12:03:29.010273Z",
     "start_time": "2022-04-11T12:03:17.232095Z"
    }
   },
   "outputs": [],
   "source": [
    "# https://www.kaggle.com/code/davidcairuz/feature-engineering-lightgbm\n",
    "# https://www.kaggle.com/code/nroman/lgb-single-model-lb-0-9419\n",
    "# some additional transaction and identity feature interaction \n",
    "for feature in ['id_02__id_20', 'id_02__D8', 'D11__DeviceInfo', 'DeviceInfo__P_emaildomain', 'P_emaildomain__C2', \n",
    "                'card2__dist1', 'card1__card5', 'card2__id_20', 'card5__P_emaildomain', 'addr1__card1']:\n",
    "\n",
    "    f1, f2 = feature.split('__')\n",
    "    train[feature] = train[f1].astype(str) + '_' + train[f2].astype(str)\n",
    "    test[feature] = test[f1].astype(str) + '_' + test[f2].astype(str)\n",
    "\n",
    "    le = LabelEncoder()\n",
    "    le.fit(list(train[feature].astype(str).values) + list(test[feature].astype(str).values))\n",
    "    train[feature] = le.transform(list(train[feature].astype(str).values))\n",
    "    test[feature] = le.transform(list(test[feature].astype(str).values))"
   ]
  },
  {
   "cell_type": "code",
   "execution_count": 51,
   "id": "fcf0b816",
   "metadata": {
    "ExecuteTime": {
     "end_time": "2022-04-11T12:04:12.550992Z",
     "start_time": "2022-04-11T12:04:11.846999Z"
    }
   },
   "outputs": [],
   "source": [
    "# https://www.kaggle.com/c/ieee-fraud-detection/discussion/100499\n",
    "# feature engineering on email\n",
    "emails = {'gmail': 'google', 'att.net': 'att', 'twc.com': 'spectrum', 'scranton.edu': 'other', 'optonline.net': 'other', 'hotmail.co.uk': 'microsoft', 'comcast.net': 'other', 'yahoo.com.mx': 'yahoo', 'yahoo.fr': 'yahoo', 'yahoo.es': 'yahoo', 'charter.net': 'spectrum', 'live.com': 'microsoft', 'aim.com': 'aol', 'hotmail.de': 'microsoft', 'centurylink.net': 'centurylink', 'gmail.com': 'google', 'me.com': 'apple', 'earthlink.net': 'other', 'gmx.de': 'other', 'web.de': 'other', 'cfl.rr.com': 'other', 'hotmail.com': 'microsoft', 'protonmail.com': 'other', 'hotmail.fr': 'microsoft', 'windstream.net': 'other', 'outlook.es': 'microsoft', 'yahoo.co.jp': 'yahoo', 'yahoo.de': 'yahoo', 'servicios-ta.com': 'other', 'netzero.net': 'other',\n",
    "          'suddenlink.net': 'other', 'roadrunner.com': 'other', 'sc.rr.com': 'other', 'live.fr': 'microsoft', 'verizon.net': 'yahoo', 'msn.com': 'microsoft', 'q.com': 'centurylink', 'prodigy.net.mx': 'att', 'frontier.com': 'yahoo', 'anonymous.com': 'other', 'rocketmail.com': 'yahoo', 'sbcglobal.net': 'att', 'frontiernet.net': 'yahoo', 'ymail.com': 'yahoo', 'outlook.com': 'microsoft', 'mail.com': 'other', 'bellsouth.net': 'other', 'embarqmail.com': 'centurylink', 'cableone.net': 'other', 'hotmail.es': 'microsoft', 'mac.com': 'apple', 'yahoo.co.uk': 'yahoo', 'netzero.com': 'other', 'yahoo.com': 'yahoo', 'live.com.mx': 'microsoft', 'ptd.net': 'other', 'cox.net': 'other', 'aol.com': 'aol', 'juno.com': 'other', 'icloud.com': 'apple'}\n",
    "us_emails = ['gmail', 'net', 'edu']\n",
    "\n",
    "for c in ['P_emaildomain', 'R_emaildomain']:\n",
    "    # bin by email provider\n",
    "    train[c + '_bin'] = train[c].map(emails)\n",
    "    test[c + '_bin'] = test[c].map(emails)\n",
    "    \n",
    "    # count encoding of email suffix (i.e. com, net, edu)\n",
    "    train[c + '_suffix'] = train[c].map(lambda x: str(x).split('.')[-1])\n",
    "    test[c + '_suffix'] = test[c].map(lambda x: str(x).split('.')[-1])\n",
    "\n",
    "    train[c + '_suffix'] = train[c + '_suffix'].map(lambda x: x if str(x) not in us_emails else 'us')\n",
    "    test[c + '_suffix'] = test[c + '_suffix'].map(lambda x: x if str(x) not in us_emails else 'us')"
   ]
  },
  {
   "cell_type": "code",
   "execution_count": 52,
   "id": "b96cdc6d",
   "metadata": {
    "ExecuteTime": {
     "end_time": "2022-04-11T12:04:13.626453Z",
     "start_time": "2022-04-11T12:04:13.487905Z"
    }
   },
   "outputs": [],
   "source": [
    "# Encoding - count encoding separately for train and test\n",
    "for feature in ['id_01', 'id_31', 'id_33', 'id_36']:\n",
    "    train[feature + '_count_dist'] = train[feature].map(train[feature].value_counts(dropna=False))\n",
    "    test[feature + '_count_dist'] = test[feature].map(test[feature].value_counts(dropna=False))"
   ]
  },
  {
   "cell_type": "code",
   "execution_count": 53,
   "id": "159fb547",
   "metadata": {
    "ExecuteTime": {
     "end_time": "2022-04-11T12:04:46.719254Z",
     "start_time": "2022-04-11T12:04:15.921750Z"
    }
   },
   "outputs": [],
   "source": [
    "cate_cols = train.select_dtypes('string').columns\n",
    "train[cate_cols] = train[cate_cols].astype(object)\n",
    "test[cate_cols] = test[cate_cols].astype(object)\n",
    "\n",
    "for col in train.columns:\n",
    "    if train[col].dtype == 'object':\n",
    "        le = LabelEncoder()\n",
    "        le.fit(list(train[col].astype(str).values) + list(test[col].astype(str).values))\n",
    "        train[col] = le.transform(list(train[col].astype(str).values))\n",
    "        test[col] = le.transform(list(test[col].astype(str).values))"
   ]
  },
  {
   "cell_type": "code",
   "execution_count": 54,
   "id": "8ebe92cd",
   "metadata": {
    "ExecuteTime": {
     "end_time": "2022-04-11T12:06:01.622028Z",
     "start_time": "2022-04-11T12:06:00.910625Z"
    }
   },
   "outputs": [],
   "source": [
    "# https://www.kaggle.com/code/davidcairuz/feature-engineering-lightgbm\n",
    "# https://www.kaggle.com/code/nroman/lgb-single-model-lb-0-9419\n",
    "# removing some irrelevant columns\n",
    "cols_remove = ['M1', 'id_04', 'id_10', 'id_28', 'id_29']\n",
    "cols_keep = [e for e in train.columns if e not in cols_remove]\n",
    "\n",
    "# TransactioDT is removed as we have already extracted more useful time features\n",
    "# TransactionID is removed as it is very index-like and carries no further insight\n",
    "X_train = train[cols_keep].sort_values('TransactionDT').drop(['isFraud', 'TransactionDT',  'TransactionID'], axis=1)\n",
    "y_train = train.sort_values('TransactionDT')['isFraud']\n",
    "y_train = y_train.astype('int8')\n",
    "X_test = test.sort_values('TransactionDT')[X_train.columns]"
   ]
  },
  {
   "cell_type": "code",
   "execution_count": 55,
   "id": "bf606d64",
   "metadata": {
    "ExecuteTime": {
     "end_time": "2022-04-11T12:06:05.096349Z",
     "start_time": "2022-04-11T12:06:02.282231Z"
    }
   },
   "outputs": [
    {
     "name": "stdout",
     "output_type": "stream",
     "text": [
      "Memory usage of dataframe is 331.71 MB\n",
      "Memory usage after optimization is: 110.38 MB\n",
      "Decreased by 66.7%\n",
      "Memory usage of dataframe is 284.62 MB\n",
      "Memory usage after optimization is: 94.71 MB\n",
      "Decreased by 66.7%\n"
     ]
    }
   ],
   "source": [
    "X_train = reduce_mem_usage(X_train)\n",
    "X_test = reduce_mem_usage(X_test)"
   ]
  },
  {
   "cell_type": "code",
   "execution_count": 56,
   "id": "222fd11e",
   "metadata": {
    "ExecuteTime": {
     "end_time": "2022-04-11T12:06:06.742506Z",
     "start_time": "2022-04-11T12:06:06.739723Z"
    }
   },
   "outputs": [
    {
     "data": {
      "text/plain": [
       "((590540, 103), (506691, 103))"
      ]
     },
     "execution_count": 56,
     "metadata": {},
     "output_type": "execute_result"
    }
   ],
   "source": [
    "# final model feature space: 103 co-variates\n",
    "X_train.shape, X_test.shape"
   ]
  },
  {
   "cell_type": "markdown",
   "id": "c5554748",
   "metadata": {},
   "source": [
    "## Tuning GBMC using 5-fold GridSearch\n",
    "\n",
    "Below is the code using `GridSearchCV` to tune GBMC model, it can provide some ideas of parameter space before  finer tuning using **Stochastic Gradient Boosting** and **Early Stopping**. It is not run here as it can take a few hours to finish. \n",
    "\n",
    "``` python\n",
    "    x_tr, x_dev, y_tr, y_dev = train_test_split(\n",
    "        X_train, y_train, test_size=0.20, random_state=5059, stratify=y_train)\n",
    "\n",
    "    model = lgb.LGBMClassifier()\n",
    "\n",
    "    param_grid = {\n",
    "        'n_estimators': [1000, 1500], #default: 100, alias: num_iterations \n",
    "        'num_leaves': [400, 450, 500],#default: 31, alias: max_leaf\n",
    "        'learning_rate':[0.005, 0.01],#default: 0.1\n",
    "        'reg_alpha': [0.1, 0.39], #reg, alias: l1_regularization\n",
    "        'reg_lambda': [0.1, 0.65], #reg, alias: l2_regularization\n",
    "        'min_child_weight': [0.03], #reg, default: 0.001, alias: min_sum_hessian_in_leaf\n",
    "        'feature_fraction': [1, 0.6], #reg, default: 1\n",
    "        'subsample': [0.4, 1], #reg, default: 1, alias: bagging_fraction\n",
    "        'min_child_samples': [200, 400]#reg, default: 20, alias: min_data_in_leaf\n",
    "    }\n",
    "\n",
    "    model, pred = algorithm_pipeline(x_tr, x_dev, y_tr, y_dev, model,\n",
    "                                     param_grid, cv=5, scoring_fit='roc_auc')\n",
    "    print(model.best_score_)\n",
    "    print(model.best_params_)\n",
    "```\n",
    "\n",
    "Output:\n",
    "- best `roc_auc`: 0.9678954077686885\n",
    "- best set of hyperparameters: \n",
    "    - `feature_fraction`: 0.6\n",
    "    - `learning_rate`: 0.01\n",
    "    - `min_child_samples`: 200\n",
    "    - `min_child_weight`: 0.03\n",
    "    - `n_estimators`: 1500\n",
    "    - `num_leaves`: 500\n",
    "    - `reg_alpha`: 0.1\n",
    "    - `reg_lambda`: 0.1\n",
    "    - `subsample`: 0.4"
   ]
  },
  {
   "cell_type": "markdown",
   "id": "f871c0db",
   "metadata": {},
   "source": [
    "# 6. Present solution\n",
    "\n",
    "<ol>\n",
    "    <li> Understand the problem </li>\n",
    "    <li> Get the data </li>\n",
    "    <li> EDA and FE </li>\n",
    "    <li> Explore Models </li>\n",
    "    <li> Fine-tune Model</li>\n",
    "    <li> <b> Present solution </b></li>\n",
    "</ol>\n",
    "\n",
    "Presenting the best performing Gradient Boosting Classifier after hyperparameter tuning."
   ]
  },
  {
   "cell_type": "code",
   "execution_count": 57,
   "id": "6af90051",
   "metadata": {
    "ExecuteTime": {
     "end_time": "2022-04-11T12:21:56.176872Z",
     "start_time": "2022-04-11T12:06:11.470624Z"
    }
   },
   "outputs": [
    {
     "name": "stdout",
     "output_type": "stream",
     "text": [
      "Training on fold 1\n",
      "Training until validation scores don't improve for 200 rounds\n",
      "[500]\ttraining's auc: 0.971529\tvalid_1's auc: 0.897543\n",
      "[1000]\ttraining's auc: 0.989431\tvalid_1's auc: 0.908843\n",
      "[1500]\ttraining's auc: 0.996087\tvalid_1's auc: 0.913217\n",
      "Did not meet early stopping. Best iteration is:\n",
      "[1500]\ttraining's auc: 0.996087\tvalid_1's auc: 0.913217\n",
      "Fold 1 finished in 0:06:16.952895\n",
      "Training on fold 2\n",
      "Training until validation scores don't improve for 200 rounds\n",
      "[500]\ttraining's auc: 0.969121\tvalid_1's auc: 0.926545\n",
      "[1000]\ttraining's auc: 0.988259\tvalid_1's auc: 0.939189\n",
      "[1500]\ttraining's auc: 0.99566\tvalid_1's auc: 0.942567\n",
      "Did not meet early stopping. Best iteration is:\n",
      "[1500]\ttraining's auc: 0.99566\tvalid_1's auc: 0.942567\n",
      "Fold 2 finished in 0:02:59.735824\n",
      "Training on fold 3\n",
      "Training until validation scores don't improve for 200 rounds\n",
      "[500]\ttraining's auc: 0.970309\tvalid_1's auc: 0.920324\n",
      "[1000]\ttraining's auc: 0.988837\tvalid_1's auc: 0.930969\n",
      "[1500]\ttraining's auc: 0.995916\tvalid_1's auc: 0.933413\n",
      "Did not meet early stopping. Best iteration is:\n",
      "[1500]\ttraining's auc: 0.995916\tvalid_1's auc: 0.933413\n",
      "Fold 3 finished in 0:02:21.605148\n",
      "Training on fold 4\n",
      "Training until validation scores don't improve for 200 rounds\n",
      "[500]\ttraining's auc: 0.968341\tvalid_1's auc: 0.935658\n",
      "[1000]\ttraining's auc: 0.988038\tvalid_1's auc: 0.948069\n",
      "[1500]\ttraining's auc: 0.995532\tvalid_1's auc: 0.951691\n",
      "Did not meet early stopping. Best iteration is:\n",
      "[1500]\ttraining's auc: 0.995532\tvalid_1's auc: 0.951691\n",
      "Fold 4 finished in 0:02:01.790047\n",
      "Training on fold 5\n",
      "Training until validation scores don't improve for 200 rounds\n",
      "[500]\ttraining's auc: 0.969973\tvalid_1's auc: 0.912495\n",
      "[1000]\ttraining's auc: 0.988549\tvalid_1's auc: 0.924903\n",
      "[1500]\ttraining's auc: 0.995768\tvalid_1's auc: 0.928887\n",
      "Did not meet early stopping. Best iteration is:\n",
      "[1500]\ttraining's auc: 0.995768\tvalid_1's auc: 0.928887\n",
      "Fold 5 finished in 0:02:04.441749\n",
      "--------------------------------------------------\n",
      "Training has finished\n",
      "Total training time is 0:15:44.550814\n",
      "Mean AUC: 0.9339549765671542\n",
      "--------------------------------------------------\n"
     ]
    },
    {
     "data": {
      "image/png": "[encoded data removed]",
      "text/plain": [
       "<Figure size 1152x1152 with 1 Axes>"
      ]
     },
     "metadata": {
      "needs_background": "light"
     },
     "output_type": "display_data"
    }
   ],
   "source": [
    "# Best lightGBMC params after further fine-tuning\n",
    "\n",
    "params = {'num_leaves': 450, \n",
    "          'n_estimators': 1500, \n",
    "          'min_child_weight': 0.033, #regularization\n",
    "          'feature_fraction': 0.35, #regularization\n",
    "          'subsample': 0.35, #regularization\n",
    "          'bagging_seed': 5059, #reproducibility\n",
    "          'min_child_samples': 180,  #regularization\n",
    "          'objective': 'binary',\n",
    "          'learning_rate': 0.005, \n",
    "          'boosting_type': \"gbdt\", \n",
    "          'metric': 'auc',\n",
    "          'verbosity': -1,\n",
    "          'reg_alpha': 0.35, #regularization\n",
    "          'reg_lambda': 0.6, #regularization\n",
    "          'random_state': 5059 #reproducibility\n",
    "          }\n",
    "\n",
    "trained_lgb = train_lgb(X_train, y_train)"
   ]
  },
  {
   "cell_type": "code",
   "execution_count": 58,
   "id": "b02b6d05",
   "metadata": {
    "ExecuteTime": {
     "end_time": "2022-04-11T12:25:02.812217Z",
     "start_time": "2022-04-11T12:23:06.089917Z"
    }
   },
   "outputs": [],
   "source": [
    "trained_lgb.fit(X_train, y_train)\n",
    "y_preds = trained_lgb.predict_proba(X_test)[:, 1]\n",
    "sub['isFraud'] = y_preds\n",
    "sub.to_csv('lgb_best.csv', index=False)"
   ]
  },
  {
   "cell_type": "markdown",
   "id": "9c894645",
   "metadata": {},
   "source": [
    "**Final GBMC Score, private 0.913, public 0.940**"
   ]
  },
  {
   "cell_type": "markdown",
   "id": "17c6e80d",
   "metadata": {},
   "source": [
    "![Final Kaggle!](best_lgb.jpg \"LightGBMC Final Score\")"
   ]
  },
  {
   "cell_type": "code",
   "execution_count": null,
   "id": "287c5d44",
   "metadata": {},
   "outputs": [],
   "source": []
  }
 ],
 "metadata": {
  "kernelspec": {
   "display_name": "ieee_fraud",
   "language": "python",
   "name": "ieee_fraud"
  },
  "language_info": {
   "codemirror_mode": {
    "name": "ipython",
    "version": 3
   },
   "file_extension": ".py",
   "mimetype": "text/x-python",
   "name": "python",
   "nbconvert_exporter": "python",
   "pygments_lexer": "ipython3",
   "version": "3.8.5"
  },
  "toc": {
   "base_numbering": 1,
   "nav_menu": {},
   "number_sections": false,
   "sideBar": true,
   "skip_h1_title": false,
   "title_cell": "Table of Contents",
   "title_sidebar": "Contents",
   "toc_cell": false,
   "toc_position": {
    "height": "calc(100% - 180px)",
    "left": "10px",
    "top": "150px",
    "width": "374.6px"
   },
   "toc_section_display": true,
   "toc_window_display": true
  }
 },
 "nbformat": 4,
 "nbformat_minor": 5
}
